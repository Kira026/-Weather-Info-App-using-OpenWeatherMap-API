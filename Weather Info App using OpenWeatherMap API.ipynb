{
 "cells": [
  {
   "cell_type": "code",
   "execution_count": 1,
   "id": "25d6b952",
   "metadata": {},
   "outputs": [],
   "source": [
    "import requests\n",
    "import json"
   ]
  },
  {
   "cell_type": "code",
   "execution_count": 6,
   "id": "00760d33",
   "metadata": {},
   "outputs": [],
   "source": [
    "url =  \"https://api.openweathermap.org/data/2.5/weather?q=Solapur&appid=993c39fc86d01bd6befa2bca9d32918b\""
   ]
  },
  {
   "cell_type": "code",
   "execution_count": 7,
   "id": "09fddaf0",
   "metadata": {},
   "outputs": [],
   "source": [
    "response = requests.get(url)\n"
   ]
  },
  {
   "cell_type": "code",
   "execution_count": 8,
   "id": "963cd7ff",
   "metadata": {},
   "outputs": [
    {
     "data": {
      "text/plain": [
       "200"
      ]
     },
     "execution_count": 8,
     "metadata": {},
     "output_type": "execute_result"
    }
   ],
   "source": [
    "response.status_code"
   ]
  },
  {
   "cell_type": "code",
   "execution_count": 5,
   "id": "a3419ce1",
   "metadata": {},
   "outputs": [],
   "source": [
    "data = response.json()"
   ]
  },
  {
   "cell_type": "code",
   "execution_count": 6,
   "id": "fdbc21d2",
   "metadata": {},
   "outputs": [
    {
     "data": {
      "text/plain": [
       "{'coord': {'lon': 75.9167, 'lat': 17.6833},\n",
       " 'weather': [{'id': 801,\n",
       "   'main': 'Clouds',\n",
       "   'description': 'few clouds',\n",
       "   'icon': '02d'}],\n",
       " 'base': 'stations',\n",
       " 'main': {'temp': 296.89,\n",
       "  'feels_like': 295.95,\n",
       "  'temp_min': 296.89,\n",
       "  'temp_max': 296.89,\n",
       "  'pressure': 1016,\n",
       "  'humidity': 24,\n",
       "  'sea_level': 1016,\n",
       "  'grnd_level': 963},\n",
       " 'visibility': 10000,\n",
       " 'wind': {'speed': 2.22, 'deg': 9, 'gust': 2.46},\n",
       " 'clouds': {'all': 14},\n",
       " 'dt': 1673582514,\n",
       " 'sys': {'country': 'IN', 'sunrise': 1673573385, 'sunset': 1673613563},\n",
       " 'timezone': 19800,\n",
       " 'id': 1256436,\n",
       " 'name': 'Solapur',\n",
       " 'cod': 200}"
      ]
     },
     "execution_count": 6,
     "metadata": {},
     "output_type": "execute_result"
    }
   ],
   "source": [
    "data"
   ]
  },
  {
   "cell_type": "code",
   "execution_count": 7,
   "id": "ad7a2622",
   "metadata": {},
   "outputs": [
    {
     "data": {
      "text/plain": [
       "'stations'"
      ]
     },
     "execution_count": 7,
     "metadata": {},
     "output_type": "execute_result"
    }
   ],
   "source": [
    "data['base']"
   ]
  },
  {
   "cell_type": "code",
   "execution_count": 8,
   "id": "86481357",
   "metadata": {},
   "outputs": [
    {
     "data": {
      "text/plain": [
       "{'temp': 296.89,\n",
       " 'feels_like': 295.95,\n",
       " 'temp_min': 296.89,\n",
       " 'temp_max': 296.89,\n",
       " 'pressure': 1016,\n",
       " 'humidity': 24,\n",
       " 'sea_level': 1016,\n",
       " 'grnd_level': 963}"
      ]
     },
     "execution_count": 8,
     "metadata": {},
     "output_type": "execute_result"
    }
   ],
   "source": [
    "data['main']\n"
   ]
  },
  {
   "cell_type": "code",
   "execution_count": 9,
   "id": "ef3e5f1d",
   "metadata": {},
   "outputs": [
    {
     "data": {
      "text/plain": [
       "'Clouds'"
      ]
     },
     "execution_count": 9,
     "metadata": {},
     "output_type": "execute_result"
    }
   ],
   "source": [
    "data['weather'][0]['main']"
   ]
  },
  {
   "cell_type": "code",
   "execution_count": 10,
   "id": "0f28bfb8",
   "metadata": {},
   "outputs": [
    {
     "data": {
      "text/plain": [
       "24"
      ]
     },
     "execution_count": 10,
     "metadata": {},
     "output_type": "execute_result"
    }
   ],
   "source": [
    "round(data['main']['temp'] - 273.15)"
   ]
  },
  {
   "cell_type": "code",
   "execution_count": 11,
   "id": "20b51d4e",
   "metadata": {},
   "outputs": [
    {
     "name": "stdout",
     "output_type": "stream",
     "text": [
      "Enter the city name: delhi\n",
      "Fog\n",
      "14\n"
     ]
    }
   ],
   "source": [
    "city_name = input('Enter the city name: ')\n",
    "url2 = 'https://api.openweathermap.org/data/2.5/weather?q='+city_name+'&appid=enter_your_apikey'\n",
    "response2 = requests.get(url2)\n",
    "data2 = response2.json()\n",
    "if response2.status_code !=200:\n",
    "    print(\"Error\")\n",
    "else:\n",
    "    print(data2['weather'][0]['main'])\n",
    "    print(round(data2['main']['temp'] - 273.15))"
   ]
  },
  {
   "cell_type": "code",
   "execution_count": 12,
   "id": "538234f0",
   "metadata": {},
   "outputs": [
    {
     "name": "stdout",
     "output_type": "stream",
     "text": [
      "Collecting python-dotenv\n",
      "  Downloading python_dotenv-0.21.0-py3-none-any.whl (18 kB)\n",
      "Installing collected packages: python-dotenv\n",
      "Successfully installed python-dotenv-0.21.0\n",
      "Note: you may need to restart the kernel to use updated packages.\n"
     ]
    }
   ],
   "source": [
    "pip install python-dotenv"
   ]
  },
  {
   "cell_type": "code",
   "execution_count": 13,
   "id": "7883a4cb",
   "metadata": {},
   "outputs": [],
   "source": [
    "from dotenv import load_dotenv\n",
    "import os"
   ]
  },
  {
   "cell_type": "code",
   "execution_count": 22,
   "id": "7468948a",
   "metadata": {},
   "outputs": [
    {
     "name": "stdout",
     "output_type": "stream",
     "text": [
      "993c39fc86d01bd6befa2bca9d32918b\n"
     ]
    }
   ],
   "source": [
    "load_dotenv()\n",
    "API_KEY = os.getenv('API_KEY')\n",
    "print (API_KEY)"
   ]
  },
  {
   "cell_type": "code",
   "execution_count": 28,
   "id": "4ddf1a3b",
   "metadata": {},
   "outputs": [
    {
     "name": "stdout",
     "output_type": "stream",
     "text": [
      "Enter the city name: Jaipur\n",
      "weather:  Fog\n",
      "city:  Jaipur\n",
      "temperature:  16\n"
     ]
    }
   ],
   "source": [
    "city_name = input('Enter the city name: ')\n",
    "url2 = 'https://api.openweathermap.org/data/2.5/weather?q='+city_name+'&appid='+API_KEY\n",
    "response2 = requests.get(url2)\n",
    "data2 = response2.json()\n",
    "if response2.status_code ==200:\n",
    "    print('weather: ',data2['weather'][0]['main'])\n",
    "    print('city: ',data2['name'])\n",
    "    print('temperature: ',round(data2['main']['temp'] - 273.15))\n",
    "else:\n",
    "    print(\"Enter the correct city please\")\n",
    "    print(response2.status_code)"
   ]
  },
  {
   "cell_type": "code",
   "execution_count": null,
   "id": "9d84de72",
   "metadata": {},
   "outputs": [],
   "source": []
  }
 ],
 "metadata": {
  "kernelspec": {
   "display_name": "Python 3 (ipykernel)",
   "language": "python",
   "name": "python3"
  },
  "language_info": {
   "codemirror_mode": {
    "name": "ipython",
    "version": 3
   },
   "file_extension": ".py",
   "mimetype": "text/x-python",
   "name": "python",
   "nbconvert_exporter": "python",
   "pygments_lexer": "ipython3",
   "version": "3.11.7"
  }
 },
 "nbformat": 4,
 "nbformat_minor": 5
}
